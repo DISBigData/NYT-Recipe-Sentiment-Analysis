{
 "cells": [
  {
   "cell_type": "code",
   "execution_count": 364,
   "id": "a57aa124",
   "metadata": {
    "scrolled": true
   },
   "outputs": [],
   "source": [
    "import requests\n",
    "\n",
    "#compiling all content on the healthy recipe pages on NYT Cooking\n",
    "healthyDinners = requests.get('https://cooking.nytimes.com/68861692-nyt-cooking/2110373-healthy-weeknight-dinners')\n",
    "healthyLunches = requests.get('https://cooking.nytimes.com/68861692-nyt-cooking/2110355-healthy-weekday-lunches')\n",
    "healthyBreakfast = requests.get('https://cooking.nytimes.com/68861692-nyt-cooking/16596-healthy-breakfast-ideas')\n"
   ]
  },
  {
   "cell_type": "code",
   "execution_count": 365,
   "id": "43665f27",
   "metadata": {
    "scrolled": true
   },
   "outputs": [],
   "source": [
    "import re\n",
    "\n",
    "#extracting the recipe links from all the pages for healthy\n",
    "\n",
    "healthyRecipeLinks = []\n",
    "\n",
    "pattern = re.compile(r'https://cooking\\.nytimes\\.com/recipes/([^\"]*)') #regex string to extract recipe links from the recipe webpages\n",
    "\n",
    "healthyLunchMatches = pattern.findall(str(healthyLunches.content)) \n",
    "healthyDinnerMatches = pattern.findall(str(healthyDinners.content)) \n",
    "healthyBreakfastMatches = pattern.findall(str(healthyBreakfast.content))\n",
    "\n",
    "#list of every link for healthy (not filtered for 5 stars yet)\n",
    "allMatches = healthyLunchMatches + healthyDinnerMatches + healthyBreakfastMatches\n",
    "\n",
    "#after this for loop healthyRecipeLinks is now a list of the links of all 5 star healthy recipes\n",
    "for match in allMatches:\n",
    "    link = \"https://cooking.nytimes.com/recipes/\" + match\n",
    "    content = requests.get(link)\n",
    "    if(get_star_review(content) == \"5\"):\n",
    "        healthyRecipeLinks.append(\"https://cooking.nytimes.com/recipes/\" + match)\n",
    "\n",
    "#turning into a set gets rid of the duplicate links\n",
    "healthyRecipesSet = set(healthyRecipeLinks)"
   ]
  },
  {
   "cell_type": "code",
   "execution_count": 366,
   "id": "62de0655",
   "metadata": {},
   "outputs": [
    {
     "name": "stdout",
     "output_type": "stream",
     "text": [
      "42\n"
     ]
    }
   ],
   "source": [
    "print(len(healthyRecipesSet))"
   ]
  },
  {
   "cell_type": "code",
   "execution_count": 367,
   "id": "2d63c6d0",
   "metadata": {},
   "outputs": [
    {
     "name": "stdout",
     "output_type": "stream",
     "text": [
      "working\n",
      "all done\n"
     ]
    }
   ],
   "source": [
    "#web crawler for healthy \n",
    "\n",
    "firstHealthy = '/1021960-sheet-pan-roasted-mushrooms-and-spinach'\n",
    "healthyLinksTried = []\n",
    "healthyLinks = list(healthyRecipesSet)\n",
    "\n",
    "healthyCounter = 1\n",
    "\n",
    "\n",
    "patternHealthy = re.compile('\"keywords\":\"(?:[^\"]*healthy[^\"]*),')\n",
    "websitePattern = re.compile(r'href=\"/recipes/(.*?)\"')\n",
    "\n",
    "print(\"working\")\n",
    "\n",
    "def doLinkStuffHealthy(link, counter):\n",
    "    #print(link)\n",
    "    \n",
    "    if link in healthyLinksTried:\n",
    "        fullLink = link\n",
    "    else:\n",
    "        fullLink = \"https://cooking.nytimes.com/recipes/\" + link\n",
    "    #print(fullLink)\n",
    "    if fullLink not in healthyLinksTried:\n",
    "        healthyLinksTried.append(fullLink)\n",
    "    data = requests.get(fullLink)\n",
    "    \n",
    "    \n",
    "    if bool(patternHealthy.search(str(data.content))):\n",
    "        if get_star_review(data) == \"5\" or get_star_review(data) == \"4\":\n",
    "            match = patternHealthy.search(str(data.content))\n",
    "            if fullLink not in healthyLinks:\n",
    "                healthyLinks.append(fullLink)\n",
    "    \n",
    "    websiteMatches = websitePattern.findall(str(data.content))\n",
    "        \n",
    "    for match in websiteMatches:\n",
    "        fullMatch = \"https://cooking.nytimes.com/recipes/\" + match\n",
    "        if fullMatch not in healthyLinksTried:\n",
    "            counter = 1\n",
    "            return match + \",\" + str(counter)\n",
    "    if fullLink == healthyLinksTried[0]:\n",
    "        print(\"all links tried sorry\")\n",
    "        return \"all links tried sorry,1\"\n",
    "    else:\n",
    "        counter = counter + 1\n",
    "        stringCounter = str(counter)\n",
    "        newIndex = -1 - counter\n",
    "        return str(healthyLinksTried[newIndex]) + \",\" + stringCounter\n",
    "    \n",
    "\n",
    "currentLink = doLinkStuffHealthy(firstHealthy, healthyCounter)\n",
    "currentCounter = 1\n",
    "while len(healthyLinks) < 50 and currentLink != \"all links tried sorry\":\n",
    "   \n",
    "    newLinkandCounter = doLinkStuffHealthy(currentLink, currentCounter)\n",
    "    splitUp = newLinkandCounter.split(\",\")\n",
    "    newLink = splitUp[0]\n",
    "    newCounter = splitUp[1]\n",
    "    currentLink = newLink\n",
    "    currentCounter = int(newCounter)\n",
    "\n",
    "    \n",
    "print(\"all done\")        \n",
    "\n",
    "\n"
   ]
  },
  {
   "cell_type": "code",
   "execution_count": 368,
   "id": "d7487f05",
   "metadata": {},
   "outputs": [
    {
     "name": "stdout",
     "output_type": "stream",
     "text": [
      "50\n"
     ]
    }
   ],
   "source": [
    "healthySet = set(healthyLinks)\n",
    "print(len(healthySet))"
   ]
  },
  {
   "cell_type": "code",
   "execution_count": 369,
   "id": "3c7fc42c",
   "metadata": {},
   "outputs": [],
   "source": [
    "allHealthyReviews = []\n",
    "\n",
    "for link in healthySet:\n",
    "    content = requests.get(link)\n",
    "    allHealthyReviews.extend(get_review_text(content))"
   ]
  },
  {
   "cell_type": "code",
   "execution_count": 370,
   "id": "45757131",
   "metadata": {},
   "outputs": [
    {
     "name": "stdout",
     "output_type": "stream",
     "text": [
      "Total Healthy Recipes Used: 50\n",
      "Total Healthy Reviews: 2788\n"
     ]
    }
   ],
   "source": [
    "#allHealthyReviews is final result ie. all reviews of all 5 star healthy recipes\n",
    "print(\"Total Healthy Recipes Used: \" + str(len(healthySet)))\n",
    "print(\"Total Healthy Reviews: \" + str(len(allHealthyReviews)))"
   ]
  },
  {
   "cell_type": "code",
   "execution_count": 371,
   "id": "2977ad9b",
   "metadata": {},
   "outputs": [],
   "source": [
    "#THE FOLLOWING IS FOR DESSERT RECIPES"
   ]
  },
  {
   "cell_type": "code",
   "execution_count": 372,
   "id": "13095c21",
   "metadata": {},
   "outputs": [
    {
     "name": "stdout",
     "output_type": "stream",
     "text": [
      "working\n",
      "all done\n"
     ]
    }
   ],
   "source": [
    "#web crawler for dessert \n",
    "\n",
    "firstDessert = '/1015819-chocolate-chip-cookies'\n",
    "dessertLinksTried = []\n",
    "dessertLinks = []\n",
    "\n",
    "myCounter = 1\n",
    "\n",
    "\n",
    "patternDessert = re.compile('recipeCategory\":\"dessert\"')\n",
    "websitePattern = re.compile(r'href=\"/recipes/(.*?)\"')\n",
    "\n",
    "print(\"working\")\n",
    "\n",
    "def doLinkStuffDessert(link, counter):\n",
    "    #print(link)\n",
    "    \n",
    "    if link in dessertLinksTried:\n",
    "        fullLink = link\n",
    "    else:\n",
    "        fullLink = \"https://cooking.nytimes.com/recipes/\" + link\n",
    "    #print(fullLink)\n",
    "    if fullLink not in dessertLinksTried:\n",
    "        dessertLinksTried.append(fullLink)\n",
    "    data = requests.get(fullLink)\n",
    "    \n",
    "    \n",
    "    if bool(patternDessert.search(str(data.content))):\n",
    "        if get_star_review(data) == \"5\" or get_star_review(data) == \"4\":\n",
    "            match = patternDessert.search(str(data.content))\n",
    "            #print(match.group())\n",
    "            dessertLinks.append(fullLink)\n",
    "    \n",
    "    websiteMatches = websitePattern.findall(str(data.content))\n",
    "   # print(websiteMatches)\n",
    "        \n",
    "    for match in websiteMatches:\n",
    "        fullMatch = \"https://cooking.nytimes.com/recipes/\" + match\n",
    "        if fullMatch not in dessertLinksTried:\n",
    "            counter = 1\n",
    "            return match + \",\" + str(counter)\n",
    "    if fullLink == dessertLinksTried[0]:\n",
    "        print(\"all links tried sorry\")\n",
    "        return \"all links tried sorry,1\"\n",
    "    else:\n",
    "        counter = counter + 1\n",
    "        stringCounter = str(counter)\n",
    "        newIndex = -1 - counter\n",
    "       # print(\"counter \" + str(counter))\n",
    "        #print(\"newIndex\" + str(newIndex))\n",
    "        #print(str(dessertLinksTried[newIndex])) \n",
    "        #print(dessertLinksTried[0])\n",
    "        return str(dessertLinksTried[newIndex]) + \",\" + stringCounter\n",
    "    \n",
    "\n",
    "currentLink = doLinkStuffDessert(firstDessert, myCounter)\n",
    "currentCounter = 1\n",
    "while len(dessertLinks) < 50 and currentLink != \"all links tried sorry\":\n",
    "    #print(currentLink)\n",
    "    \n",
    "    \n",
    "    newLinkandCounter = doLinkStuffDessert(currentLink, currentCounter)\n",
    "    splitUp = newLinkandCounter.split(\",\")\n",
    "    newLink = splitUp[0]\n",
    "    newCounter = splitUp[1]\n",
    "    currentLink = newLink\n",
    "    currentCounter = int(newCounter)\n",
    "\n",
    "    \n",
    "print(\"all done\")"
   ]
  },
  {
   "cell_type": "code",
   "execution_count": 373,
   "id": "b354714c",
   "metadata": {},
   "outputs": [],
   "source": [
    "dessertLinksSet = set(dessertLinks)"
   ]
  },
  {
   "cell_type": "code",
   "execution_count": 374,
   "id": "3a0cce0b",
   "metadata": {},
   "outputs": [],
   "source": [
    "allDessertReviews = []\n",
    "\n",
    "for link in dessertLinksSet:\n",
    "    content = requests.get(link)\n",
    "    allDessertReviews.extend(get_review_text(content))"
   ]
  },
  {
   "cell_type": "code",
   "execution_count": 375,
   "id": "16400787",
   "metadata": {},
   "outputs": [
    {
     "name": "stdout",
     "output_type": "stream",
     "text": [
      "Total Dessert Recipes Used: 51\n",
      "Total Dessert Reviews: 2704\n"
     ]
    }
   ],
   "source": [
    "#allDessertReviews is final result ie. all reviews of all 5 star healthy recipes\n",
    "print(\"Total Dessert Recipes Used: \" + str(len(dessertLinksSet)))\n",
    "print(\"Total Dessert Reviews: \" + str(len(allDessertReviews)))"
   ]
  },
  {
   "cell_type": "code",
   "execution_count": 376,
   "id": "fedbea48",
   "metadata": {},
   "outputs": [],
   "source": [
    "#HELPER FUNCTIONS BELOW"
   ]
  },
  {
   "cell_type": "code",
   "execution_count": 377,
   "id": "3045074b",
   "metadata": {},
   "outputs": [
    {
     "name": "stdout",
     "output_type": "stream",
     "text": [
      "4\n"
     ]
    }
   ],
   "source": [
    "def get_star_review(websiteData):\n",
    "    \n",
    "    pattern = re.compile(r'\"ratingValue\":(\\d+)')\n",
    "    match = pattern.search(str(websiteData.content))   \n",
    "    \n",
    "    return match[1]\n",
    "\n",
    "print(get_star_review(data))"
   ]
  },
  {
   "cell_type": "code",
   "execution_count": 378,
   "id": "dab98721",
   "metadata": {},
   "outputs": [],
   "source": [
    "def get_review_text(websiteData): #returns a string of all reviews for a dish\n",
    "    \n",
    "    all_reviews = []\n",
    "\n",
    "    pattern = re.compile(r'\"reviewBody\":\\s*\"([^\"]*)\"') #regex string to extract user reviews of dish\n",
    "    matches = pattern.findall(str(websiteData.content)) \n",
    "    \n",
    "    for match in matches:\n",
    "        all_reviews.append(match)\n",
    "    \n",
    "    return all_reviews\n",
    "\n",
    "#print(get_review_text(data))"
   ]
  }
 ],
 "metadata": {
  "kernelspec": {
   "display_name": "Python 3 (ipykernel)",
   "language": "python",
   "name": "python3"
  },
  "language_info": {
   "codemirror_mode": {
    "name": "ipython",
    "version": 3
   },
   "file_extension": ".py",
   "mimetype": "text/x-python",
   "name": "python",
   "nbconvert_exporter": "python",
   "pygments_lexer": "ipython3",
   "version": "3.11.4"
  }
 },
 "nbformat": 4,
 "nbformat_minor": 5
}
